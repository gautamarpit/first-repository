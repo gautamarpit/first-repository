{
 "cells": [
  {
   "cell_type": "markdown",
   "id": "65eb3471-8932-4c19-ad2b-a73a40b22ec9",
   "metadata": {},
   "source": [
    "# Data Science Tools and Ecosystem"
   ]
  },
  {
   "cell_type": "markdown",
   "id": "86c9e083-a028-4c27-aec0-f8ef2e63f50e",
   "metadata": {},
   "source": [
    " ## In this notebook, Data Science Tools and Ecosystem are summarized."
   ]
  },
  {
   "cell_type": "markdown",
   "id": "58f72a04-060e-4166-bb10-f584b51689db",
   "metadata": {},
   "source": [
    " **Objectives**\n",
    " • List popular languages for Data Science.\n",
    " • List popular tools for Data Science.\n",
    " • List popular Libraries for Data Science.\n",
    " \n",
    " "
   ]
  },
  {
   "cell_type": "markdown",
   "id": "0bc93f6e-47ea-46d2-8000-fb7f7cd784d7",
   "metadata": {},
   "source": [
    "## Some of the popular languages that Data Scientists use are:\n",
    "1. Python\n",
    "2. R\n",
    "3. Julia\n",
    "4. Scala "
   ]
  },
  {
   "cell_type": "markdown",
   "id": "c571753c-40ca-46aa-b351-e0fbaf9526c7",
   "metadata": {},
   "source": [
    "## Some of the commonly used libraries used by Data Scientists include:\n",
    "1. Pandas\n",
    "2. Numpy\n",
    "3. Matplotlib\n",
    "4. Seaborn\n"
   ]
  },
  {
   "cell_type": "markdown",
   "id": "93ab7285-3f90-4307-a11c-eaccb885e5fb",
   "metadata": {},
   "source": [
    "| Data Science Tools |\n",
    "| ------------------ |\n",
    "| Apache Spark |\n",
    "| Apache Airflow |\n",
    "| Kubernates |\n",
    "| Seldom |\n"
   ]
  },
  {
   "cell_type": "markdown",
   "id": "073c7b24-29c3-49c8-9e3c-49aa20e09c38",
   "metadata": {},
   "source": [
    "### Below are a few examples of evaluating arithmetic expressions in Python"
   ]
  },
  {
   "cell_type": "code",
   "execution_count": 1,
   "id": "45b22f7b-6bb6-472f-b6a8-6248b9473ddf",
   "metadata": {},
   "outputs": [
    {
     "data": {
      "text/plain": [
       "17"
      ]
     },
     "execution_count": 1,
     "metadata": {},
     "output_type": "execute_result"
    }
   ],
   "source": [
    "# This a simple arithmetic expression to mutiply then add integers.\n",
    "(3*4)+5"
   ]
  },
  {
   "cell_type": "code",
   "execution_count": 8,
   "id": "af0b11fc-0e0a-4b2b-97fa-d4cb4a26d966",
   "metadata": {},
   "outputs": [
    {
     "name": "stdin",
     "output_type": "stream",
     "text": [
      "enter the time in minutes:- 200\n"
     ]
    },
    {
     "name": "stdout",
     "output_type": "stream",
     "text": [
      "3 hours20 minutes\n"
     ]
    }
   ],
   "source": [
    "# write an expression that converts 200 minutes into hours\n",
    "x=eval(input(\"enter the time in minutes:-\"))\n",
    "# This will convert 200 minutes to hours by diving by 60.\n",
    "hours=x//60\n",
    "minutes=x%60\n",
    "print(hours,\"hours\",end='')\n",
    "print(minutes,\"minutes\")"
   ]
  },
  {
   "cell_type": "markdown",
   "id": "e554c6f1-41a4-4a30-8821-fbeb8e01d3d4",
   "metadata": {},
   "source": [
    "## Authors\n",
    "   Arpit Gautam"
   ]
  },
  {
   "cell_type": "code",
   "execution_count": null,
   "id": "43d1e030-59c8-4db4-b5f0-24def2d65df5",
   "metadata": {},
   "outputs": [],
   "source": []
  }
 ],
 "metadata": {
  "kernelspec": {
   "display_name": "Python 3 (ipykernel)",
   "language": "python",
   "name": "python3"
  },
  "language_info": {
   "codemirror_mode": {
    "name": "ipython",
    "version": 3
   },
   "file_extension": ".py",
   "mimetype": "text/x-python",
   "name": "python",
   "nbconvert_exporter": "python",
   "pygments_lexer": "ipython3",
   "version": "3.11.5"
  }
 },
 "nbformat": 4,
 "nbformat_minor": 5
}
